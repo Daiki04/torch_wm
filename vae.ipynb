{
 "cells": [
  {
   "cell_type": "code",
   "execution_count": 1,
   "metadata": {},
   "outputs": [],
   "source": [
    "import torch\n",
    "import torch.nn as nn\n",
    "from torch.nn import functional as F\n",
    "import numpy as np\n",
    "from rollout import CarRacing_rollouts"
   ]
  },
  {
   "cell_type": "code",
   "execution_count": 1,
   "metadata": {},
   "outputs": [
    {
     "name": "stdout",
     "output_type": "stream",
     "text": [
      "^C\n"
     ]
    }
   ],
   "source": [
    "!python vae_train.py"
   ]
  },
  {
   "cell_type": "code",
   "execution_count": 20,
   "metadata": {},
   "outputs": [
    {
     "ename": "AttributeError",
     "evalue": "'CarRacing' object has no attribute 'track'",
     "output_type": "error",
     "traceback": [
      "\u001b[1;31m---------------------------------------------------------------------------\u001b[0m",
      "\u001b[1;31mAttributeError\u001b[0m                            Traceback (most recent call last)",
      "Cell \u001b[1;32mIn[20], line 7\u001b[0m\n\u001b[0;32m      3\u001b[0m env \u001b[39m=\u001b[39m gym\u001b[39m.\u001b[39mmake(\u001b[39m'\u001b[39m\u001b[39mCarRacing-v2\u001b[39m\u001b[39m'\u001b[39m, render_mode\u001b[39m=\u001b[39m\u001b[39m'\u001b[39m\u001b[39mrgb_array\u001b[39m\u001b[39m'\u001b[39m, domain_randomize\u001b[39m=\u001b[39m\u001b[39mFalse\u001b[39;00m)\n\u001b[0;32m      5\u001b[0m \u001b[39mfor\u001b[39;00m i \u001b[39min\u001b[39;00m \u001b[39mrange\u001b[39m(\u001b[39m5\u001b[39m):\n\u001b[0;32m      6\u001b[0m     \u001b[39m# タイル数をプリント\u001b[39;00m\n\u001b[1;32m----> 7\u001b[0m     \u001b[39mprint\u001b[39m(\u001b[39m'\u001b[39m\u001b[39mtiles:\u001b[39m\u001b[39m'\u001b[39m, \u001b[39mlen\u001b[39m(env\u001b[39m.\u001b[39;49mtrack))\n",
      "File \u001b[1;32mc:\\Users\\daiki\\miniconda3\\envs\\env_torch_world_models\\lib\\site-packages\\gym\\core.py:241\u001b[0m, in \u001b[0;36mWrapper.__getattr__\u001b[1;34m(self, name)\u001b[0m\n\u001b[0;32m    239\u001b[0m \u001b[39mif\u001b[39;00m name\u001b[39m.\u001b[39mstartswith(\u001b[39m\"\u001b[39m\u001b[39m_\u001b[39m\u001b[39m\"\u001b[39m):\n\u001b[0;32m    240\u001b[0m     \u001b[39mraise\u001b[39;00m \u001b[39mAttributeError\u001b[39;00m(\u001b[39mf\u001b[39m\u001b[39m\"\u001b[39m\u001b[39maccessing private attribute \u001b[39m\u001b[39m'\u001b[39m\u001b[39m{\u001b[39;00mname\u001b[39m}\u001b[39;00m\u001b[39m'\u001b[39m\u001b[39m is prohibited\u001b[39m\u001b[39m\"\u001b[39m)\n\u001b[1;32m--> 241\u001b[0m \u001b[39mreturn\u001b[39;00m \u001b[39mgetattr\u001b[39;49m(\u001b[39mself\u001b[39;49m\u001b[39m.\u001b[39;49menv, name)\n",
      "File \u001b[1;32mc:\\Users\\daiki\\miniconda3\\envs\\env_torch_world_models\\lib\\site-packages\\gym\\core.py:241\u001b[0m, in \u001b[0;36mWrapper.__getattr__\u001b[1;34m(self, name)\u001b[0m\n\u001b[0;32m    239\u001b[0m \u001b[39mif\u001b[39;00m name\u001b[39m.\u001b[39mstartswith(\u001b[39m\"\u001b[39m\u001b[39m_\u001b[39m\u001b[39m\"\u001b[39m):\n\u001b[0;32m    240\u001b[0m     \u001b[39mraise\u001b[39;00m \u001b[39mAttributeError\u001b[39;00m(\u001b[39mf\u001b[39m\u001b[39m\"\u001b[39m\u001b[39maccessing private attribute \u001b[39m\u001b[39m'\u001b[39m\u001b[39m{\u001b[39;00mname\u001b[39m}\u001b[39;00m\u001b[39m'\u001b[39m\u001b[39m is prohibited\u001b[39m\u001b[39m\"\u001b[39m)\n\u001b[1;32m--> 241\u001b[0m \u001b[39mreturn\u001b[39;00m \u001b[39mgetattr\u001b[39;49m(\u001b[39mself\u001b[39;49m\u001b[39m.\u001b[39;49menv, name)\n",
      "File \u001b[1;32mc:\\Users\\daiki\\miniconda3\\envs\\env_torch_world_models\\lib\\site-packages\\gym\\core.py:241\u001b[0m, in \u001b[0;36mWrapper.__getattr__\u001b[1;34m(self, name)\u001b[0m\n\u001b[0;32m    239\u001b[0m \u001b[39mif\u001b[39;00m name\u001b[39m.\u001b[39mstartswith(\u001b[39m\"\u001b[39m\u001b[39m_\u001b[39m\u001b[39m\"\u001b[39m):\n\u001b[0;32m    240\u001b[0m     \u001b[39mraise\u001b[39;00m \u001b[39mAttributeError\u001b[39;00m(\u001b[39mf\u001b[39m\u001b[39m\"\u001b[39m\u001b[39maccessing private attribute \u001b[39m\u001b[39m'\u001b[39m\u001b[39m{\u001b[39;00mname\u001b[39m}\u001b[39;00m\u001b[39m'\u001b[39m\u001b[39m is prohibited\u001b[39m\u001b[39m\"\u001b[39m)\n\u001b[1;32m--> 241\u001b[0m \u001b[39mreturn\u001b[39;00m \u001b[39mgetattr\u001b[39;49m(\u001b[39mself\u001b[39;49m\u001b[39m.\u001b[39;49menv, name)\n",
      "\u001b[1;31mAttributeError\u001b[0m: 'CarRacing' object has no attribute 'track'"
     ]
    }
   ],
   "source": [
    "import gym\n",
    "import numpy as np\n",
    "\n",
    "class CustomCarRacing(gym.Env):\n",
    "    def __init__(self):\n",
    "        # ここに環境の初期化コードを記述します\n",
    "        pass\n",
    "\n",
    "    def reset(self):\n",
    "        # ここにスタート位置を指定するコードを追加します\n",
    "        self.car_x = 0  # 車のX座標を指定\n",
    "        self.car_y = 0  # 車のY座標を指定\n",
    "        self.car_speed = 0  # 車のスピードを指定\n",
    "        # ... 他の初期化コード ...\n",
    "        return observation\n",
    "\n",
    "    def step(self, action):\n",
    "        # ここにステップを進めるコードを記述します\n",
    "        pass\n",
    "\n",
    "    def render(self, mode='human'):\n",
    "        # ここに描画コードを記述します\n",
    "        pass\n",
    "\n",
    "    def close(self):\n",
    "        # ここに終了処理を記述します\n",
    "        pass\n",
    "\n",
    "# カスタム環境を登録します\n",
    "gym.envs.register(\n",
    "    id='CustomCarRacing-v2',\n",
    "    entry_point='custom_car_racing:CustomCarRacing',\n",
    "    max_episode_steps=1000,  # 最大ステップ数を指定\n",
    ")\n"
   ]
  },
  {
   "cell_type": "code",
   "execution_count": 3,
   "metadata": {},
   "outputs": [],
   "source": [
    "class Encoder(nn.Module):\n",
    "    \"\"\" Encoder\"\"\"\n",
    "\n",
    "    def __init__(self, z_dim=32):\n",
    "        super().__init__()\n",
    "\n",
    "        self.z_dim = z_dim # 潜在表現の次元数\n",
    "\n",
    "        # 畳み込み層\n",
    "        self.conv1 = nn.Conv2d(3, 32, kernel_size=4, stride=2)\n",
    "        self.conv2 = nn.Conv2d(32, 64, kernel_size=4, stride=2)\n",
    "        self.conv3 = nn.Conv2d(64, 128, kernel_size=4, stride=2)\n",
    "        self.conv4 = nn.Conv2d(128, 256, kernel_size=4, stride=2)\n",
    "\n",
    "        self.mu = nn.Linear(1024, z_dim) # 平均を表現する線形層\n",
    "        self.log_var = nn.Linear(1024, z_dim) # 分散の対数値を表現する線形層\n",
    "\n",
    "    def forward(self, x):\n",
    "        # x: [batch_size, 3, 64, 64]\n",
    "        c1 = F.relu(self.conv1(x)) # [batch_size, 3, 64, 64] -> [batch_size, 32, 31, 31]\n",
    "        c2 = F.relu(self.conv2(c1)) # [batch_size, 32, 31, 31] -> [batch_size, 64, 14, 14]\n",
    "        c3 = F.relu(self.conv3(c2)) # [batch_size, 64, 14, 14] -> [batch_size, 128, 6, 6]\n",
    "        c4 = F.relu(self.conv4(c3)) # [batch_size, 128, 6, 6] -> [batch_size, 256, 2, 2]\n",
    "\n",
    "        d1 = c4.view(-1, 1024) # [batch_size, 256, 2, 2] -> [batch_size, 1024]\n",
    "\n",
    "        mu = self.mu(d1) # [batch_size, 1024] -> [batch_size, z_dim]\n",
    "        log_var = self.log_var(d1) # [batch_size, 1024] -> [batch_size, z_dim]\n",
    "        ep = torch.randn_like(log_var) # [batch_size, z_dim], N(0, 1), 正規分布からサンプリング\n",
    "\n",
    "        z = mu + ep * torch.exp(log_var / 2) # [batch_size, z_dim], 潜在表現をサンプリング\n",
    "\n",
    "        return z, mu, log_var\n"
   ]
  },
  {
   "cell_type": "code",
   "execution_count": 4,
   "metadata": {},
   "outputs": [],
   "source": [
    "class Decoder(nn.Module):\n",
    "    \"\"\"Decoder\"\"\"\n",
    "\n",
    "    def __init__(self, z_dim=32):\n",
    "        super().__init__()\n",
    "\n",
    "        self.z_dim = z_dim\n",
    "\n",
    "        self.linear = nn.Linear(z_dim, 1024) # 潜在表現を線形変換する層\n",
    "\n",
    "        # 転置畳み込み層\n",
    "        self.conv1 = nn.ConvTranspose2d(1024, 128, kernel_size=5, stride=2)\n",
    "        self.conv2 = nn.ConvTranspose2d(128, 64, kernel_size=5, stride=2)\n",
    "        self.conv3 = nn.ConvTranspose2d(64, 32, kernel_size=6, stride=2)\n",
    "        self.conv4 = nn.ConvTranspose2d(32, 3, kernel_size=6, stride=2)\n",
    "    \n",
    "    def forward(self, x):\n",
    "        # x: [batch_size, z_dim]\n",
    "        d1 = self.linear(x) # [batch_size, z_dim] -> [batch_size, 1024]\n",
    "        d1 = d1.view(-1, 1024, 1, 1) # [batch_size, 1024] -> [batch_size, 1024, 1, 1]\n",
    "\n",
    "        ct1 = F.relu(self.conv1(d1)) # [batch_size, 1024, 1, 1] -> [batch_size, 128, 5, 5]\n",
    "        ct2 = F.relu(self.conv2(ct1)) # [batch_size, 128, 5, 5] -> [batch_size, 64, 13, 13]\n",
    "        ct3 = F.relu(self.conv3(ct2)) # [batch_size, 64, 13, 13] -> [batch_size, 32, 30, 30]\n",
    "        ct4 = F.sigmoid(self.conv4(ct3)) # [batch_size, 32, 30, 30] -> [batch_size, 3, 64, 64]\n",
    "\n",
    "        return ct4"
   ]
  },
  {
   "cell_type": "code",
   "execution_count": 5,
   "metadata": {},
   "outputs": [],
   "source": [
    "class VAE(nn.Module):\n",
    "    \"\"\"VAE\"\"\"\n",
    "\n",
    "    def __init__(self, z_dim=32):\n",
    "        super().__init__()\n",
    "\n",
    "        self.z_dim = z_dim\n",
    "        self.encoder = Encoder(z_dim) # エンコーダ\n",
    "        self.decoder = Decoder(z_dim) # デコーダ\n",
    "\n",
    "    def forward(self, x):\n",
    "        # x: [batch_size, 3, 64, 64]\n",
    "        z, mu, log_var = self.encoder(x) # [batch_size, 3, 64, 64] -> [batch_size, z_dim], [batch_size, z_dim], [batch_size, z_dim]\n",
    "        y = self.decoder(z) # [batch_size, z_dim] -> [batch_size, 3, 64, 64]\n",
    "\n",
    "        return y, mu, log_var\n",
    "    \n",
    "    def encode(self, x):\n",
    "        ### 画像を潜在表現に変換する ###\n",
    "        # x: [batch_size, 3, 64, 64]\n",
    "        z, mu, log_var = self.encoder(x) # [batch_size, z_dim], [batch_size, z_dim], [batch_size, z_dim]\n",
    "        return z, mu, log_var\n",
    "    \n",
    "    def decode(self, z):\n",
    "        ### 潜在表現から画像を生成する ###\n",
    "        # z: [batch_size, z_dim]\n",
    "        y = self.decoder(z) # [batch_size, 3, 64, 64]\n",
    "        return y\n",
    "    \n",
    "    def r_loss(self, y_true, y_pred):\n",
    "        ### 再構成誤差(RMSE)を計算する ###\n",
    "        # y_true: [batch_size, 3, 64, 64]\n",
    "        # y_pred: [batch_size, 3, 64, 64]\n",
    "        # rmse = (y_true - y_pred) ** 2 # [batch_size, 3, 64, 64]\n",
    "        # rmse = torch.sum(rmse, dim=(1, 2, 3)) # [batch_size]\n",
    "        # rmse = torch.sqrt(torch.mean(rmse)) # 1つの値にスカラー変換\n",
    "        rmse = nn.MSELoss(reduction='none')(y_true, y_pred).mean(dim=(1, 2, 3))\n",
    "        rmse = torch.sqrt(rmse)\n",
    "        rmse = torch.mean(rmse)\n",
    "        return rmse\n",
    "        \n",
    "    def kl_loss(self, mu, log_var, kl_tolerance):\n",
    "        ### 潜在表現の分布と事前分布のKLダイバージェンスを計算する ###\n",
    "        # mu: [batch_size, z_dim]\n",
    "        # log_var: [batch_size, z_dim]\n",
    "        kl = -0.5 * torch.sum(1 + log_var - mu**2 - torch.exp(log_var), dim=1) # [batch_size]\n",
    "        kl = torch.max(kl, kl.new([self.z_dim * kl_tolerance])) # [batch_size]\n",
    "        kl = torch.mean(kl) # 1つの値にスカラー変換\n",
    "        return kl\n",
    "    \n",
    "    def loss(self, y_true, y_pred, mu, log_var, kl_tolerance=0.5):\n",
    "        ### VAEの損失関数を計算する: r_loss + kl_loss ###\n",
    "        # y_true: [batch_size, 3, 64, 64]\n",
    "        # y_pred: [batch_size, 3, 64, 64]\n",
    "        # mu: [batch_size, z_dim]\n",
    "        # log_var: [batch_size, z_dim]\n",
    "        r_loss = self.r_loss(y_true, y_pred) # [batch_size]\n",
    "        kl_loss = self.kl_loss(mu, log_var, kl_tolerance) # [batch_size]\n",
    "        loss = r_loss + kl_loss # スカラー値\n",
    "        return loss, r_loss, kl_loss"
   ]
  },
  {
   "cell_type": "code",
   "execution_count": 77,
   "metadata": {},
   "outputs": [
    {
     "data": {
      "text/plain": [
       "tensor([1., 1., 1.])"
      ]
     },
     "execution_count": 77,
     "metadata": {},
     "output_type": "execute_result"
    }
   ],
   "source": [
    "y = torch.ones(3, 3, 64, 64)\n",
    "y_true = torch.ones(3, 3, 64, 64) - 1\n",
    "nn.MSELoss(reduction='none')(y, y_true).mean(dim=(1, 2, 3))"
   ]
  },
  {
   "cell_type": "code",
   "execution_count": 8,
   "metadata": {},
   "outputs": [
    {
     "name": "stdout",
     "output_type": "stream",
     "text": [
      "Train Epoch: 1\n"
     ]
    },
    {
     "ename": "KeyboardInterrupt",
     "evalue": "",
     "output_type": "error",
     "traceback": [
      "\u001b[1;31m---------------------------------------------------------------------------\u001b[0m",
      "\u001b[1;31mKeyboardInterrupt\u001b[0m                         Traceback (most recent call last)",
      "Cell \u001b[1;32mIn[8], line 53\u001b[0m\n\u001b[0;32m     50\u001b[0m train_data \u001b[39m=\u001b[39m torch\u001b[39m.\u001b[39mtensor(train_data, dtype\u001b[39m=\u001b[39mtorch\u001b[39m.\u001b[39mfloat32)\u001b[39m.\u001b[39mto(device) \u001b[39m# テンソル化, GPUへ\u001b[39;00m\n\u001b[0;32m     52\u001b[0m optimizer\u001b[39m.\u001b[39mzero_grad() \u001b[39m# 勾配の初期化\u001b[39;00m\n\u001b[1;32m---> 53\u001b[0m y, mu, log_var \u001b[39m=\u001b[39m model(train_data) \u001b[39m# z: [batch_size, z_dim], mu: [batch_size, z_dim], log_var: [batch_size, z_dim]\u001b[39;00m\n\u001b[0;32m     54\u001b[0m loss, r_loss, kl_loss \u001b[39m=\u001b[39m model\u001b[39m.\u001b[39mloss(train_data, y, mu, log_var) \u001b[39m# 損失関数の計算, スカラー値\u001b[39;00m\n\u001b[0;32m     55\u001b[0m loss\u001b[39m.\u001b[39mbackward() \u001b[39m# 勾配の計算\u001b[39;00m\n",
      "File \u001b[1;32mc:\\Users\\daiki\\miniconda3\\envs\\env_torch_world_models\\lib\\site-packages\\torch\\nn\\modules\\module.py:1501\u001b[0m, in \u001b[0;36mModule._call_impl\u001b[1;34m(self, *args, **kwargs)\u001b[0m\n\u001b[0;32m   1496\u001b[0m \u001b[39m# If we don't have any hooks, we want to skip the rest of the logic in\u001b[39;00m\n\u001b[0;32m   1497\u001b[0m \u001b[39m# this function, and just call forward.\u001b[39;00m\n\u001b[0;32m   1498\u001b[0m \u001b[39mif\u001b[39;00m \u001b[39mnot\u001b[39;00m (\u001b[39mself\u001b[39m\u001b[39m.\u001b[39m_backward_hooks \u001b[39mor\u001b[39;00m \u001b[39mself\u001b[39m\u001b[39m.\u001b[39m_backward_pre_hooks \u001b[39mor\u001b[39;00m \u001b[39mself\u001b[39m\u001b[39m.\u001b[39m_forward_hooks \u001b[39mor\u001b[39;00m \u001b[39mself\u001b[39m\u001b[39m.\u001b[39m_forward_pre_hooks\n\u001b[0;32m   1499\u001b[0m         \u001b[39mor\u001b[39;00m _global_backward_pre_hooks \u001b[39mor\u001b[39;00m _global_backward_hooks\n\u001b[0;32m   1500\u001b[0m         \u001b[39mor\u001b[39;00m _global_forward_hooks \u001b[39mor\u001b[39;00m _global_forward_pre_hooks):\n\u001b[1;32m-> 1501\u001b[0m     \u001b[39mreturn\u001b[39;00m forward_call(\u001b[39m*\u001b[39margs, \u001b[39m*\u001b[39m\u001b[39m*\u001b[39mkwargs)\n\u001b[0;32m   1502\u001b[0m \u001b[39m# Do not call functions when jit is used\u001b[39;00m\n\u001b[0;32m   1503\u001b[0m full_backward_hooks, non_full_backward_hooks \u001b[39m=\u001b[39m [], []\n",
      "Cell \u001b[1;32mIn[5], line 13\u001b[0m, in \u001b[0;36mVAE.forward\u001b[1;34m(self, x)\u001b[0m\n\u001b[0;32m     11\u001b[0m \u001b[39mdef\u001b[39;00m \u001b[39mforward\u001b[39m(\u001b[39mself\u001b[39m, x):\n\u001b[0;32m     12\u001b[0m     \u001b[39m# x: [batch_size, 3, 64, 64]\u001b[39;00m\n\u001b[1;32m---> 13\u001b[0m     z, mu, log_var \u001b[39m=\u001b[39m \u001b[39mself\u001b[39;49m\u001b[39m.\u001b[39;49mencoder(x) \u001b[39m# [batch_size, 3, 64, 64] -> [batch_size, z_dim], [batch_size, z_dim], [batch_size, z_dim]\u001b[39;00m\n\u001b[0;32m     14\u001b[0m     y \u001b[39m=\u001b[39m \u001b[39mself\u001b[39m\u001b[39m.\u001b[39mdecoder(z) \u001b[39m# [batch_size, z_dim] -> [batch_size, 3, 64, 64]\u001b[39;00m\n\u001b[0;32m     16\u001b[0m     \u001b[39mreturn\u001b[39;00m y, mu, log_var\n",
      "File \u001b[1;32mc:\\Users\\daiki\\miniconda3\\envs\\env_torch_world_models\\lib\\site-packages\\torch\\nn\\modules\\module.py:1501\u001b[0m, in \u001b[0;36mModule._call_impl\u001b[1;34m(self, *args, **kwargs)\u001b[0m\n\u001b[0;32m   1496\u001b[0m \u001b[39m# If we don't have any hooks, we want to skip the rest of the logic in\u001b[39;00m\n\u001b[0;32m   1497\u001b[0m \u001b[39m# this function, and just call forward.\u001b[39;00m\n\u001b[0;32m   1498\u001b[0m \u001b[39mif\u001b[39;00m \u001b[39mnot\u001b[39;00m (\u001b[39mself\u001b[39m\u001b[39m.\u001b[39m_backward_hooks \u001b[39mor\u001b[39;00m \u001b[39mself\u001b[39m\u001b[39m.\u001b[39m_backward_pre_hooks \u001b[39mor\u001b[39;00m \u001b[39mself\u001b[39m\u001b[39m.\u001b[39m_forward_hooks \u001b[39mor\u001b[39;00m \u001b[39mself\u001b[39m\u001b[39m.\u001b[39m_forward_pre_hooks\n\u001b[0;32m   1499\u001b[0m         \u001b[39mor\u001b[39;00m _global_backward_pre_hooks \u001b[39mor\u001b[39;00m _global_backward_hooks\n\u001b[0;32m   1500\u001b[0m         \u001b[39mor\u001b[39;00m _global_forward_hooks \u001b[39mor\u001b[39;00m _global_forward_pre_hooks):\n\u001b[1;32m-> 1501\u001b[0m     \u001b[39mreturn\u001b[39;00m forward_call(\u001b[39m*\u001b[39margs, \u001b[39m*\u001b[39m\u001b[39m*\u001b[39mkwargs)\n\u001b[0;32m   1502\u001b[0m \u001b[39m# Do not call functions when jit is used\u001b[39;00m\n\u001b[0;32m   1503\u001b[0m full_backward_hooks, non_full_backward_hooks \u001b[39m=\u001b[39m [], []\n",
      "Cell \u001b[1;32mIn[3], line 20\u001b[0m, in \u001b[0;36mEncoder.forward\u001b[1;34m(self, x)\u001b[0m\n\u001b[0;32m     18\u001b[0m \u001b[39mdef\u001b[39;00m \u001b[39mforward\u001b[39m(\u001b[39mself\u001b[39m, x):\n\u001b[0;32m     19\u001b[0m     \u001b[39m# x: [batch_size, 3, 64, 64]\u001b[39;00m\n\u001b[1;32m---> 20\u001b[0m     c1 \u001b[39m=\u001b[39m F\u001b[39m.\u001b[39mrelu(\u001b[39mself\u001b[39;49m\u001b[39m.\u001b[39;49mconv1(x)) \u001b[39m# [batch_size, 3, 64, 64] -> [batch_size, 32, 31, 31]\u001b[39;00m\n\u001b[0;32m     21\u001b[0m     c2 \u001b[39m=\u001b[39m F\u001b[39m.\u001b[39mrelu(\u001b[39mself\u001b[39m\u001b[39m.\u001b[39mconv2(c1)) \u001b[39m# [batch_size, 32, 31, 31] -> [batch_size, 64, 14, 14]\u001b[39;00m\n\u001b[0;32m     22\u001b[0m     c3 \u001b[39m=\u001b[39m F\u001b[39m.\u001b[39mrelu(\u001b[39mself\u001b[39m\u001b[39m.\u001b[39mconv3(c2)) \u001b[39m# [batch_size, 64, 14, 14] -> [batch_size, 128, 6, 6]\u001b[39;00m\n",
      "File \u001b[1;32mc:\\Users\\daiki\\miniconda3\\envs\\env_torch_world_models\\lib\\site-packages\\torch\\nn\\modules\\module.py:1501\u001b[0m, in \u001b[0;36mModule._call_impl\u001b[1;34m(self, *args, **kwargs)\u001b[0m\n\u001b[0;32m   1496\u001b[0m \u001b[39m# If we don't have any hooks, we want to skip the rest of the logic in\u001b[39;00m\n\u001b[0;32m   1497\u001b[0m \u001b[39m# this function, and just call forward.\u001b[39;00m\n\u001b[0;32m   1498\u001b[0m \u001b[39mif\u001b[39;00m \u001b[39mnot\u001b[39;00m (\u001b[39mself\u001b[39m\u001b[39m.\u001b[39m_backward_hooks \u001b[39mor\u001b[39;00m \u001b[39mself\u001b[39m\u001b[39m.\u001b[39m_backward_pre_hooks \u001b[39mor\u001b[39;00m \u001b[39mself\u001b[39m\u001b[39m.\u001b[39m_forward_hooks \u001b[39mor\u001b[39;00m \u001b[39mself\u001b[39m\u001b[39m.\u001b[39m_forward_pre_hooks\n\u001b[0;32m   1499\u001b[0m         \u001b[39mor\u001b[39;00m _global_backward_pre_hooks \u001b[39mor\u001b[39;00m _global_backward_hooks\n\u001b[0;32m   1500\u001b[0m         \u001b[39mor\u001b[39;00m _global_forward_hooks \u001b[39mor\u001b[39;00m _global_forward_pre_hooks):\n\u001b[1;32m-> 1501\u001b[0m     \u001b[39mreturn\u001b[39;00m forward_call(\u001b[39m*\u001b[39margs, \u001b[39m*\u001b[39m\u001b[39m*\u001b[39mkwargs)\n\u001b[0;32m   1502\u001b[0m \u001b[39m# Do not call functions when jit is used\u001b[39;00m\n\u001b[0;32m   1503\u001b[0m full_backward_hooks, non_full_backward_hooks \u001b[39m=\u001b[39m [], []\n",
      "File \u001b[1;32mc:\\Users\\daiki\\miniconda3\\envs\\env_torch_world_models\\lib\\site-packages\\torch\\nn\\modules\\conv.py:463\u001b[0m, in \u001b[0;36mConv2d.forward\u001b[1;34m(self, input)\u001b[0m\n\u001b[0;32m    462\u001b[0m \u001b[39mdef\u001b[39;00m \u001b[39mforward\u001b[39m(\u001b[39mself\u001b[39m, \u001b[39minput\u001b[39m: Tensor) \u001b[39m-\u001b[39m\u001b[39m>\u001b[39m Tensor:\n\u001b[1;32m--> 463\u001b[0m     \u001b[39mreturn\u001b[39;00m \u001b[39mself\u001b[39;49m\u001b[39m.\u001b[39;49m_conv_forward(\u001b[39minput\u001b[39;49m, \u001b[39mself\u001b[39;49m\u001b[39m.\u001b[39;49mweight, \u001b[39mself\u001b[39;49m\u001b[39m.\u001b[39;49mbias)\n",
      "File \u001b[1;32mc:\\Users\\daiki\\miniconda3\\envs\\env_torch_world_models\\lib\\site-packages\\torch\\nn\\modules\\conv.py:459\u001b[0m, in \u001b[0;36mConv2d._conv_forward\u001b[1;34m(self, input, weight, bias)\u001b[0m\n\u001b[0;32m    455\u001b[0m \u001b[39mif\u001b[39;00m \u001b[39mself\u001b[39m\u001b[39m.\u001b[39mpadding_mode \u001b[39m!=\u001b[39m \u001b[39m'\u001b[39m\u001b[39mzeros\u001b[39m\u001b[39m'\u001b[39m:\n\u001b[0;32m    456\u001b[0m     \u001b[39mreturn\u001b[39;00m F\u001b[39m.\u001b[39mconv2d(F\u001b[39m.\u001b[39mpad(\u001b[39minput\u001b[39m, \u001b[39mself\u001b[39m\u001b[39m.\u001b[39m_reversed_padding_repeated_twice, mode\u001b[39m=\u001b[39m\u001b[39mself\u001b[39m\u001b[39m.\u001b[39mpadding_mode),\n\u001b[0;32m    457\u001b[0m                     weight, bias, \u001b[39mself\u001b[39m\u001b[39m.\u001b[39mstride,\n\u001b[0;32m    458\u001b[0m                     _pair(\u001b[39m0\u001b[39m), \u001b[39mself\u001b[39m\u001b[39m.\u001b[39mdilation, \u001b[39mself\u001b[39m\u001b[39m.\u001b[39mgroups)\n\u001b[1;32m--> 459\u001b[0m \u001b[39mreturn\u001b[39;00m F\u001b[39m.\u001b[39;49mconv2d(\u001b[39minput\u001b[39;49m, weight, bias, \u001b[39mself\u001b[39;49m\u001b[39m.\u001b[39;49mstride,\n\u001b[0;32m    460\u001b[0m                 \u001b[39mself\u001b[39;49m\u001b[39m.\u001b[39;49mpadding, \u001b[39mself\u001b[39;49m\u001b[39m.\u001b[39;49mdilation, \u001b[39mself\u001b[39;49m\u001b[39m.\u001b[39;49mgroups)\n",
      "\u001b[1;31mKeyboardInterrupt\u001b[0m: "
     ]
    }
   ],
   "source": [
    "num_epoch = 3 # エポック数\n",
    "batch_size = 2 # バッチサイズ\n",
    "lr = 0.0001 # 学習率\n",
    "\n",
    "seq_len = 300 # シーケンスの長さ\n",
    "num_rollouts = 10000 # ロールアウト数\n",
    "z_dim = 32 # 潜在表現の次元数\n",
    "\n",
    "device = torch.device(\"cuda\" if torch.cuda.is_available() else \"cpu\") # GPUが使えるかどうかの確認\n",
    "\n",
    "model = VAE().to(device) # モデルをGPUへ\n",
    "optimizer = torch.optim.Adam(model.parameters(), lr=lr) # オプティマイザ\n",
    "\n",
    "train_history_r = [] # 学習用の損失関数(batchごとの平均)\n",
    "train_history_kl = [] # 学習用の損失関数\n",
    "train_history = [] # 学習用の損失関数\n",
    "test_history_r = [] # テスト用の損失関数(batchごとの平均)\n",
    "test_history_kl = [] # テスト用の損失関数\n",
    "test_history = [] # テスト用の損失関数\n",
    "\n",
    "env = CarRacing_rollouts() # rolloutの取得用\n",
    "\n",
    "for epoch in range(num_epoch):\n",
    "    idx = np.arange(num_rollouts).astype(np.int32) # ロールアウトのインデックス\n",
    "    train_idx = idx[:int(num_rollouts * 0.7)] # 学習用のロールアウトのインデックス\n",
    "    test_idx = idx[int(num_rollouts * 0.7):] # テスト用のロールアウトのインデックス\n",
    "    np.random.shuffle(train_idx) # 学習用のロールアウトのインデックスをシャッフル\n",
    "\n",
    "    train_loss = 0 # 学習用の損失関数\n",
    "    train_loss_r = 0 # 学習用の損失関数\n",
    "    train_loss_kl = 0 # 学習用の損失関数\n",
    "    test_loss = 0 # テスト用の損失関数\n",
    "    test_loss_r = 0 # テスト用の損失関数\n",
    "    test_loss_kl = 0 # テスト用の損失関数\n",
    "\n",
    "    del idx\n",
    "\n",
    "    model.train() # 学習モード\n",
    "    print('Train Epoch: {}'.format(epoch+1))\n",
    "    for i in range(0, len(train_idx), batch_size):\n",
    "        if i + batch_size > len(train_idx):\n",
    "            batch_idx = train_idx[i:]\n",
    "        else:\n",
    "            batch_idx = train_idx[i:i+batch_size]\n",
    "        \n",
    "        train_data, _, _, _ = env.load_rollouts(batch_idx) # ロールアウトの取得\n",
    "\n",
    "        train_data = train_data / 255.0 # 値を0~1に正規化, [bar_size, seq_len, 64, 64, 3]\n",
    "        train_data = train_data.reshape(-1, 3, 64, 64) # [batch_size, seq_len, 3, 64, 64] -> [batch_size * seq_len, 3, 64, 64]\n",
    "        train_data = torch.tensor(train_data, dtype=torch.float32).to(device) # テンソル化, GPUへ\n",
    "\n",
    "        optimizer.zero_grad() # 勾配の初期化\n",
    "        y, mu, log_var = model(train_data) # z: [batch_size, z_dim], mu: [batch_size, z_dim], log_var: [batch_size, z_dim]\n",
    "        loss, r_loss, kl_loss = model.loss(train_data, y, mu, log_var) # 損失関数の計算, スカラー値\n",
    "        loss.backward() # 勾配の計算\n",
    "        optimizer.step() # パラメータの更新\n",
    "\n",
    "        train_loss += loss.item() # 損失関数の計算\n",
    "        train_loss_r += r_loss.item() # 損失関数の計算\n",
    "        train_loss_kl += kl_loss.item() # 損失関数の計算\n",
    "\n",
    "        if i % 100 == 0:\n",
    "            print('Epoch: {}, Batch: {}, Loss: {:.3f}, r_loss: {:.3f}, kl_loss: {:.3f}'.format(epoch+1, i, loss.item(), r_loss.item(), kl_loss.item()))\n",
    "\n",
    "        del train_data\n",
    "    \n",
    "    train_history.append(train_loss / len(train_idx))\n",
    "    train_history_r.append(train_loss_r / len(train_idx))\n",
    "    train_history_kl.append(train_loss_kl / len(train_idx))\n",
    "\n",
    "    del train_idx, train_loss, loss, y, mu, log_var, r_loss, kl_loss\n",
    "    \n",
    "    model.eval() # 評価モード\n",
    "    print('Test Epoch: {}'.format(epoch+1))\n",
    "    for i in range(0, len(test_idx), batch_size):\n",
    "        if i + batch_size > len(test_idx):\n",
    "            batch_idx = test_idx[i:]\n",
    "        else:\n",
    "            batch_idx = test_idx[i:i+batch_size]\n",
    "        \n",
    "        test_data, _, _, _ = env.load_rollouts(batch_idx)\n",
    "        test_data = test_data / 255.0\n",
    "        test_data = test_data.reshape(-1, 3, 64, 64)\n",
    "        test_data = torch.tensor(test_data, dtype=torch.float32).to(device)\n",
    "\n",
    "        y, mu, log_var = model(test_data)\n",
    "        loss, r_loss, kl_loss = model.loss(test_data, y, mu, log_var)\n",
    "        \n",
    "        test_loss += loss.item()\n",
    "        test_loss_r += r_loss.item()\n",
    "        test_loss_kl += kl_loss.item()\n",
    "\n",
    "        if i % 100 == 0:\n",
    "            print('Epoch: {}, Batch: {}, Loss: {:.3f}, r_loss: {:.3f}, kl_loss: {:.3f}'.format(epoch+1, i, loss.item(), r_loss.item(), kl_loss.item()))\n",
    "        \n",
    "        del test_data\n",
    "\n",
    "    test_history.append(test_loss / len(test_idx))\n",
    "    test_history_r.append(test_loss_r / len(test_idx))\n",
    "    test_history_kl.append(test_loss_kl / len(test_idx))\n",
    "\n",
    "    del test_idx, test_loss, loss, y, mu, log_var\n",
    "\n",
    "    # モデルの保存\n",
    "    torch.save({\n",
    "        'epoch': epoch,\n",
    "        'model_state_dict': model.state_dict(),\n",
    "        'optimizer_state_dict': optimizer.state_dict(),\n",
    "        }, './vae_tolerance4.pth')\n",
    "    \n",
    "    # 学習用の損失関数の保存\n",
    "    np.save('./train_history_torelance4.npy', np.array(train_history))\n",
    "    np.save('./train_history_r_torelance4.npy', np.array(train_history_r))\n",
    "    np.save('./train_history_kl_torelance4.npy', np.array(train_history_kl))\n",
    "    # テスト用の損失関数の保存\n",
    "    np.save('./test_history_torelance4.npy', np.array(test_history))\n",
    "    np.save('./test_history_r_torelance4.npy', np.array(test_history_r))\n",
    "    np.save('./test_history_kl_torelance4.npy', np.array(test_history_kl))"
   ]
  },
  {
   "cell_type": "code",
   "execution_count": 14,
   "metadata": {},
   "outputs": [
    {
     "data": {
      "text/plain": [
       "(300, 64, 64, 3)"
      ]
     },
     "execution_count": 14,
     "metadata": {},
     "output_type": "execute_result"
    }
   ],
   "source": [
    "vae = VAE().to(device)\n",
    "checkpoint = torch.load('vae_tolerance3.pth')\n",
    "vae.load_state_dict(checkpoint['model_state_dict'])\n",
    "vae.eval()\n",
    "\n",
    "state, _, _ , _ =  env.load_rollout(0)\n",
    "state.shape"
   ]
  },
  {
   "cell_type": "code",
   "execution_count": 15,
   "metadata": {},
   "outputs": [],
   "source": [
    "import matplotlib.pyplot as plt"
   ]
  },
  {
   "cell_type": "code",
   "execution_count": 16,
   "metadata": {},
   "outputs": [
    {
     "data": {
      "text/plain": [
       "<matplotlib.image.AxesImage at 0x1bcb5f96fb0>"
      ]
     },
     "execution_count": 16,
     "metadata": {},
     "output_type": "execute_result"
    },
    {
     "data": {
      "image/png": "[encoded data removed]",
      "text/plain": [
       "<Figure size 640x480 with 1 Axes>"
      ]
     },
     "metadata": {},
     "output_type": "display_data"
    }
   ],
   "source": [
    "state_sample = state[80]\n",
    "state_sample = state_sample.reshape(-1, 3, 64, 64)\n",
    "state_sample = torch.from_numpy(state_sample).float()\n",
    "state_sample = state_sample.to(device)\n",
    "state_sample = state_sample / 255.0\n",
    "\n",
    "state_sample_vae, _, _ = vae(state_sample)\n",
    "state_sample_vae = state_sample_vae.cpu().detach().numpy()\n",
    "\n",
    "state_sample_vae = state_sample_vae.reshape(64, 64, 3) * 255.0\n",
    "\n",
    "plt.imshow(state_sample_vae.astype(np.uint8))"
   ]
  },
  {
   "cell_type": "code",
   "execution_count": 18,
   "metadata": {},
   "outputs": [
    {
     "data": {
      "text/plain": [
       "<matplotlib.image.AxesImage at 0x1bcb5ff12a0>"
      ]
     },
     "execution_count": 18,
     "metadata": {},
     "output_type": "execute_result"
    },
    {
     "data": {
      "image/png": "[encoded data removed]",
      "text/plain": [
       "<Figure size 640x480 with 1 Axes>"
      ]
     },
     "metadata": {},
     "output_type": "display_data"
    }
   ],
   "source": [
    "plt.imshow(state[80].astype(np.uint8))"
   ]
  },
  {
   "cell_type": "code",
   "execution_count": 17,
   "metadata": {},
   "outputs": [
    {
     "name": "stdout",
     "output_type": "stream",
     "text": [
      "(1,)\n"
     ]
    }
   ],
   "source": [
    "# npyの読み込み\n",
    "file = \"./train_history_torelance.npy\"\n",
    "train_history_torelance = np.load(file)\n",
    "print(train_history_torelance.shape)"
   ]
  },
  {
   "cell_type": "code",
   "execution_count": 18,
   "metadata": {},
   "outputs": [
    {
     "data": {
      "text/plain": [
       "array([24.1202367])"
      ]
     },
     "execution_count": 18,
     "metadata": {},
     "output_type": "execute_result"
    }
   ],
   "source": [
    "train_history_torelance"
   ]
  },
  {
   "cell_type": "code",
   "execution_count": null,
   "metadata": {},
   "outputs": [],
   "source": []
  }
 ],
 "metadata": {
  "kernelspec": {
   "display_name": "env_torch_world_models",
   "language": "python",
   "name": "python3"
  },
  "language_info": {
   "codemirror_mode": {
    "name": "ipython",
    "version": 3
   },
   "file_extension": ".py",
   "mimetype": "text/x-python",
   "name": "python",
   "nbconvert_exporter": "python",
   "pygments_lexer": "ipython3",
   "version": "3.10.11"
  },
  "orig_nbformat": 4
 },
 "nbformat": 4,
 "nbformat_minor": 2
}
