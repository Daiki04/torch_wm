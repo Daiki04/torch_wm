{
 "cells": [
  {
   "cell_type": "code",
   "execution_count": 2,
   "metadata": {},
   "outputs": [
    {
     "name": "stderr",
     "output_type": "stream",
     "text": [
      "c:\\Users\\daiki\\miniconda3\\envs\\env_torch_world_models\\lib\\site-packages\\tqdm\\auto.py:21: TqdmWarning: IProgress not found. Please update jupyter and ipywidgets. See https://ipywidgets.readthedocs.io/en/stable/user_install.html\n",
      "  from .autonotebook import tqdm as notebook_tqdm\n"
     ]
    }
   ],
   "source": [
    "import gym\n",
    "import numpy as np\n",
    "import torch\n",
    "from PIL import Image\n",
    "import optuna\n",
    "import imageio"
   ]
  },
  {
   "cell_type": "code",
   "execution_count": null,
   "metadata": {},
   "outputs": [],
   "source": [
    "import tqdm\n",
    "import os\n",
    "import gym\n",
    "from PIL import Image\n",
    "import numpy as np\n",
    "import numpy.random as nr\n",
    "import argparse\n",
    "import torch\n",
    "\n",
    "class CarRacing_rollouts():\n",
    "    def __init__(self, seed_num=0):\n",
    "        self.env = gym.make('CarRacing-v2', render_mode='rgb_array', domain_randomize=False)\n",
    "        self.env.reset(seed=seed_num)\n",
    "        self.file_dir = './data/CarRacing/'\n",
    "\n",
    "    def get_rollouts(self, num_rollouts=10000, reflesh_rate=5, max_episode=300):\n",
    "        start_idx = 0\n",
    "        if os.path.exists(self.file_dir):\n",
    "            start_idx = len(os.listdir(self.file_dir)) \n",
    "        for i in tqdm.tqdm(range(start_idx, num_rollouts+1)):\n",
    "            state_sequence = []\n",
    "            action_sequence = []\n",
    "            reward_sequence = []\n",
    "            done_sequence = []\n",
    "            state = self.env.reset()\n",
    "            done = False\n",
    "            iter = 0\n",
    "            while iter < max_episode:\n",
    "                if iter < 20:\n",
    "                    action = np.array([-0.1, 1, 0])\n",
    "                elif iter % reflesh_rate == 0:\n",
    "                    steering, acceleration, brake = self.env.action_space.sample()\n",
    "                    action = np.array([steering, acceleration, brake])\n",
    "                    rn = nr.randint(0, 9)\n",
    "                    if rn in [0]:\n",
    "                        action = np.array([0, 0, 0])\n",
    "                    elif rn in [1, 2, 3, 4]:\n",
    "                        action = np.array([0, nr.uniform(0.0, 1.0), 0])\n",
    "                    elif rn in [5, 6]:\n",
    "                        action = np.array([nr.uniform(-1.0, 0.0), 0, 0])\n",
    "                    elif rn in [7, 8]:\n",
    "                        action = np.array([nr.uniform(0.0, 1.0), 0, 0])\n",
    "                    elif rn in [9]:\n",
    "                        action = np.array([0, 0, nr.uniform(0.0, 1.0)])\n",
    "                    else:\n",
    "                        pass\n",
    "\n",
    "                state, reward, done, _, _ = self.env.step(action)\n",
    "                state = self.reshape_state(state)\n",
    "                state_sequence.append(state)\n",
    "                action_sequence.append(action)\n",
    "                reward_sequence.append(reward)\n",
    "                done_sequence.append(done)\n",
    "                iter += 1\n",
    "            np.savez_compressed(os.path.join(self.file_dir, 'rollout_{}.npz'.format(i)), state=state_sequence, action=action_sequence, reward=reward_sequence, done=done_sequence)\n",
    "            # np.savez(os.path.join(self.file_dir, 'rollout_{}.npz'.format(i)), state=state_sequence, action=action_sequence, reward=reward_sequence, done=done_sequence)\n",
    "\n",
    "    def load_rollout(self, idx_rolloout):\n",
    "        data = np.load(os.path.join(self.file_dir, 'rollout_{}.npz'.format(idx_rolloout)))\n",
    "        return data['state'], data['action'], data['reward'], data['done']\n",
    "    \n",
    "    def load_rollouts(self, idx_rolloouts):\n",
    "        states = []\n",
    "        actions = []\n",
    "        rewards = []\n",
    "        dones = []\n",
    "        for idx_rolloout in idx_rolloouts:\n",
    "            data = np.load(os.path.join(self.file_dir, 'rollout_{}.npz'.format(idx_rolloout)))\n",
    "            states.append(data['state'])\n",
    "            actions.append(data['action'])\n",
    "            rewards.append(data['reward'])\n",
    "            dones.append(data['done'])\n",
    "        return states, actions, rewards, dones\n",
    "\n",
    "    def reshape_state(self, state):\n",
    "        # state（画像）をリサイズして64x64にする．値を0-1に正規化する処理は行っていない．\n",
    "        HEIGHT = 64\n",
    "        WIDTH = 64\n",
    "        state = state[0:84, :, :]\n",
    "        state = Image.fromarray(state).resize((HEIGHT, WIDTH))\n",
    "        return state\n",
    "    \n",
    "    def make_gif(self, idx_rolloout):\n",
    "        state, _, _, _ = self.load_rollout(idx_rolloout)\n",
    "        images = []\n",
    "        for i in range(len(state)):\n",
    "            pil_image = Image.fromarray(state[i].astype(\"uint8\"))\n",
    "            images.append(pil_image)\n",
    "        imageio.mimsave('./rollout.gif'.format(idx_rolloout), images, duration=10)\n",
    "        "
   ]
  },
  {
   "cell_type": "code",
   "execution_count": 3,
   "metadata": {},
   "outputs": [],
   "source": [
    "import tqdm\n",
    "import os\n",
    "import gym\n",
    "from PIL import Image\n",
    "import numpy as np\n",
    "import numpy.random as nr\n",
    "import argparse\n",
    "import torch\n",
    "\n",
    "class CarRacing_rollouts():\n",
    "    def __init__(self, seed_num=0):\n",
    "        self.env = gym.make('CarRacing-v2', render_mode='rgb_array', domain_randomize=False)\n",
    "        self.env.reset(seed=seed_num)\n",
    "        self.file_dir = './data/CarRacing/'\n",
    "\n",
    "    def get_rollouts(self, num_rollouts=10000, reflesh_rate=5, max_episode=300):\n",
    "        start_idx = 8600\n",
    "        # if os.path.exists(self.file_dir):\n",
    "        #     start_idx = len(os.listdir(self.file_dir)) \n",
    "        for i in tqdm.tqdm(range(start_idx, num_rollouts+1)):\n",
    "            if len(self.load_rollout(i)) == 300:\n",
    "                continue\n",
    "            state_sequence = []\n",
    "            action_sequence = []\n",
    "            reward_sequence = []\n",
    "            done_sequence = []\n",
    "            state = self.env.reset()\n",
    "            done = False\n",
    "            iter = 0\n",
    "            while iter < max_episode:\n",
    "                if iter < 20:\n",
    "                    action = np.array([-0.1, 1, 0])\n",
    "                elif iter % reflesh_rate == 0:\n",
    "                    steering, acceleration, brake = self.env.action_space.sample()\n",
    "                    action = np.array([steering, acceleration, brake])\n",
    "                    rn = nr.randint(0, 9)\n",
    "                    if rn in [0]:\n",
    "                        action = np.array([0, 0, 0])\n",
    "                    elif rn in [1, 2, 3, 4]:\n",
    "                        action = np.array([0, nr.uniform(0.0, 1.0), 0])\n",
    "                    elif rn in [5, 6]:\n",
    "                        action = np.array([nr.uniform(-1.0, 0.0), 0, 0])\n",
    "                    elif rn in [7, 8]:\n",
    "                        action = np.array([nr.uniform(0.0, 1.0), 0, 0])\n",
    "                    elif rn in [9]:\n",
    "                        action = np.array([0, 0, nr.uniform(0.0, 1.0)])\n",
    "                    else:\n",
    "                        pass\n",
    "\n",
    "                state, reward, done, _, _ = self.env.step(action)\n",
    "                state = self.reshape_state(state)\n",
    "                state_sequence.append(state)\n",
    "                action_sequence.append(action)\n",
    "                reward_sequence.append(reward)\n",
    "                done_sequence.append(done)\n",
    "                iter += 1\n",
    "            np.savez_compressed(os.path.join(self.file_dir, 'rollout_{}.npz'.format(i)), state=state_sequence, action=action_sequence, reward=reward_sequence, done=done_sequence)\n",
    "            # np.savez(os.path.join(self.file_dir, 'rollout_{}.npz'.format(i)), state=state_sequence, action=action_sequence, reward=reward_sequence, done=done_sequence)\n",
    "\n",
    "    def load_rollout(self, idx_rolloout):\n",
    "        data = np.load(os.path.join(self.file_dir, 'rollout_{}.npz'.format(idx_rolloout)))\n",
    "        return data['state'], data['action'], data['reward'], data['done']\n",
    "    \n",
    "    def load_rollouts(self, idx_rolloouts):\n",
    "        states = []\n",
    "        actions = []\n",
    "        rewards = []\n",
    "        dones = []\n",
    "        for idx_rolloout in idx_rolloouts:\n",
    "            data = np.load(os.path.join(self.file_dir, 'rollout_{}.npz'.format(idx_rolloout)))\n",
    "            states.append(data['state'])\n",
    "            actions.append(data['action'])\n",
    "            rewards.append(data['reward'])\n",
    "            dones.append(data['done'])\n",
    "        return states, actions, rewards, dones\n",
    "\n",
    "    def reshape_state(self, state):\n",
    "        # state（画像）をリサイズして64x64にする．値を0-1に正規化する処理は行っていない．\n",
    "        HEIGHT = 64\n",
    "        WIDTH = 64\n",
    "        state = state[0:84, :, :]\n",
    "        state = Image.fromarray(state).resize((HEIGHT, WIDTH))\n",
    "        return state\n",
    "    \n",
    "    def make_gif(self, idx_rolloout):\n",
    "        state, _, _, _ = self.load_rollout(idx_rolloout)\n",
    "        images = []\n",
    "        for i in range(len(state)):\n",
    "            pil_image = Image.fromarray(state[i].astype(\"uint8\"))\n",
    "            images.append(pil_image)\n",
    "        imageio.mimsave('./rollout.gif'.format(idx_rolloout), images, duration=10)\n",
    "        "
   ]
  },
  {
   "cell_type": "code",
   "execution_count": 4,
   "metadata": {},
   "outputs": [
    {
     "name": "stderr",
     "output_type": "stream",
     "text": [
      "  0%|          | 0/1401 [00:00<?, ?it/s]c:\\Users\\daiki\\miniconda3\\envs\\env_torch_world_models\\lib\\site-packages\\gym\\utils\\passive_env_checker.py:233: DeprecationWarning: `np.bool8` is a deprecated alias for `np.bool_`.  (Deprecated NumPy 1.24)\n",
      "  if not isinstance(terminated, (bool, np.bool8)):\n",
      "100%|██████████| 1401/1401 [1:21:43<00:00,  3.50s/it]\n"
     ]
    }
   ],
   "source": [
    "env = CarRacing_rollouts()\n",
    "env.get_rollouts(10000, 5, 300)"
   ]
  },
  {
   "cell_type": "code",
   "execution_count": 6,
   "metadata": {},
   "outputs": [],
   "source": [
    "for i in range(10000):\n",
    "    state, _, _, _ = env.load_rollout(i)\n",
    "    if len(state) != 300:\n",
    "        print(i)"
   ]
  },
  {
   "cell_type": "code",
   "execution_count": 5,
   "metadata": {},
   "outputs": [],
   "source": [
    "env.make_gif(0)"
   ]
  },
  {
   "cell_type": "code",
   "execution_count": 6,
   "metadata": {},
   "outputs": [],
   "source": [
    "env.make_gif(55)"
   ]
  },
  {
   "cell_type": "code",
   "execution_count": 41,
   "metadata": {},
   "outputs": [],
   "source": [
    "import numpy as np\n",
    "import h5py\n",
    "import glob, cv2, os\n",
    "f = h5py.File('data.hdf5', mode='w')"
   ]
  },
  {
   "cell_type": "code",
   "execution_count": 42,
   "metadata": {},
   "outputs": [],
   "source": [
    "group = f.create_group(\"/CarRacing\")"
   ]
  },
  {
   "cell_type": "code",
   "execution_count": 43,
   "metadata": {},
   "outputs": [],
   "source": [
    "file_list = [p.replace(\"\\\\\", \"/\") for p in glob.glob(\"./data/CarRacing/*.npz\", recursive=True)]\n",
    "file_list = sorted(file_list, key=lambda x: int(x.split(\"/\")[-1].split(\".\")[0].split(\"_\")[-1]))"
   ]
  },
  {
   "cell_type": "code",
   "execution_count": 44,
   "metadata": {},
   "outputs": [
    {
     "name": "stdout",
     "output_type": "stream",
     "text": [
      "state\n",
      "<class 'str'>\n",
      "action\n",
      "<class 'str'>\n",
      "reward\n",
      "<class 'str'>\n",
      "done\n",
      "<class 'str'>\n"
     ]
    }
   ],
   "source": [
    "A = np.load(file_list[0])\n",
    "for a in A.keys():\n",
    "    print(a)\n",
    "    print(type(a))"
   ]
  },
  {
   "cell_type": "code",
   "execution_count": 46,
   "metadata": {},
   "outputs": [
    {
     "data": {
      "text/plain": [
       "NpzFile './data/CarRacing/rollout_0.npz' with keys: state, action, reward, done"
      ]
     },
     "execution_count": 46,
     "metadata": {},
     "output_type": "execute_result"
    }
   ],
   "source": [
    "A"
   ]
  },
  {
   "cell_type": "code",
   "execution_count": 45,
   "metadata": {},
   "outputs": [
    {
     "ename": "TypeError",
     "evalue": "No conversion path for dtype: dtype('<U6')",
     "output_type": "error",
     "traceback": [
      "\u001b[1;31m---------------------------------------------------------------------------\u001b[0m",
      "\u001b[1;31mTypeError\u001b[0m                                 Traceback (most recent call last)",
      "Cell \u001b[1;32mIn[45], line 4\u001b[0m\n\u001b[0;32m      1\u001b[0m \u001b[39mfor\u001b[39;00m file \u001b[39min\u001b[39;00m file_list:\n\u001b[0;32m      2\u001b[0m     \u001b[39m# key: state, action, reward, doneを持つnpzファイルをdatasetに追加\u001b[39;00m\n\u001b[0;32m      3\u001b[0m     data \u001b[39m=\u001b[39m np\u001b[39m.\u001b[39mload(file)\n\u001b[1;32m----> 4\u001b[0m     dataset \u001b[39m=\u001b[39m group\u001b[39m.\u001b[39;49mcreate_dataset(os\u001b[39m.\u001b[39;49mpath\u001b[39m.\u001b[39;49mbasename(file), data\u001b[39m=\u001b[39;49mdata)\n\u001b[0;32m      5\u001b[0m f\u001b[39m.\u001b[39mclose()\n",
      "File \u001b[1;32mc:\\Users\\daiki\\miniconda3\\envs\\env_torch_world_models\\lib\\site-packages\\h5py\\_hl\\group.py:183\u001b[0m, in \u001b[0;36mGroup.create_dataset\u001b[1;34m(self, name, shape, dtype, data, **kwds)\u001b[0m\n\u001b[0;32m    180\u001b[0m         parent_path, name \u001b[39m=\u001b[39m name\u001b[39m.\u001b[39mrsplit(\u001b[39mb\u001b[39m\u001b[39m'\u001b[39m\u001b[39m/\u001b[39m\u001b[39m'\u001b[39m, \u001b[39m1\u001b[39m)\n\u001b[0;32m    181\u001b[0m         group \u001b[39m=\u001b[39m \u001b[39mself\u001b[39m\u001b[39m.\u001b[39mrequire_group(parent_path)\n\u001b[1;32m--> 183\u001b[0m dsid \u001b[39m=\u001b[39m dataset\u001b[39m.\u001b[39mmake_new_dset(group, shape, dtype, data, name, \u001b[39m*\u001b[39m\u001b[39m*\u001b[39mkwds)\n\u001b[0;32m    184\u001b[0m dset \u001b[39m=\u001b[39m dataset\u001b[39m.\u001b[39mDataset(dsid)\n\u001b[0;32m    185\u001b[0m \u001b[39mreturn\u001b[39;00m dset\n",
      "File \u001b[1;32mc:\\Users\\daiki\\miniconda3\\envs\\env_torch_world_models\\lib\\site-packages\\h5py\\_hl\\dataset.py:86\u001b[0m, in \u001b[0;36mmake_new_dset\u001b[1;34m(parent, shape, dtype, data, name, chunks, compression, shuffle, fletcher32, maxshape, compression_opts, fillvalue, scaleoffset, track_times, external, track_order, dcpl, dapl, efile_prefix, virtual_prefix, allow_unknown_filter, rdcc_nslots, rdcc_nbytes, rdcc_w0)\u001b[0m\n\u001b[0;32m     84\u001b[0m     \u001b[39melse\u001b[39;00m:\n\u001b[0;32m     85\u001b[0m         dtype \u001b[39m=\u001b[39m numpy\u001b[39m.\u001b[39mdtype(dtype)\n\u001b[1;32m---> 86\u001b[0m     tid \u001b[39m=\u001b[39m h5t\u001b[39m.\u001b[39;49mpy_create(dtype, logical\u001b[39m=\u001b[39;49m\u001b[39m1\u001b[39;49m)\n\u001b[0;32m     88\u001b[0m \u001b[39m# Legacy\u001b[39;00m\n\u001b[0;32m     89\u001b[0m \u001b[39mif\u001b[39;00m \u001b[39many\u001b[39m((compression, shuffle, fletcher32, maxshape, scaleoffset)) \u001b[39mand\u001b[39;00m chunks \u001b[39mis\u001b[39;00m \u001b[39mFalse\u001b[39;00m:\n",
      "File \u001b[1;32mh5py\\h5t.pyx:1664\u001b[0m, in \u001b[0;36mh5py.h5t.py_create\u001b[1;34m()\u001b[0m\n",
      "File \u001b[1;32mh5py\\h5t.pyx:1688\u001b[0m, in \u001b[0;36mh5py.h5t.py_create\u001b[1;34m()\u001b[0m\n",
      "File \u001b[1;32mh5py\\h5t.pyx:1754\u001b[0m, in \u001b[0;36mh5py.h5t.py_create\u001b[1;34m()\u001b[0m\n",
      "\u001b[1;31mTypeError\u001b[0m: No conversion path for dtype: dtype('<U6')"
     ]
    }
   ],
   "source": [
    "for file in file_list:\n",
    "    # key: state, action, reward, doneを持つnpzファイルをdatasetに追加\n",
    "    data = np.load(file)\n",
    "    dataset = group.create_dataset(os.path.basename(file), data=data)\n",
    "f.close()\n"
   ]
  },
  {
   "cell_type": "code",
   "execution_count": null,
   "metadata": {},
   "outputs": [],
   "source": []
  }
 ],
 "metadata": {
  "kernelspec": {
   "display_name": "env_torch_world_models",
   "language": "python",
   "name": "python3"
  },
  "language_info": {
   "codemirror_mode": {
    "name": "ipython",
    "version": 3
   },
   "file_extension": ".py",
   "mimetype": "text/x-python",
   "name": "python",
   "nbconvert_exporter": "python",
   "pygments_lexer": "ipython3",
   "version": "3.10.11"
  },
  "orig_nbformat": 4
 },
 "nbformat": 4,
 "nbformat_minor": 2
}
